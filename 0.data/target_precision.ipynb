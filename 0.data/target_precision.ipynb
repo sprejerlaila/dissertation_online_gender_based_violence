{
 "cells": [
  {
   "cell_type": "code",
   "execution_count": null,
   "metadata": {},
   "outputs": [],
   "source": [
    "import pandas as pd\n",
    "import time\n",
    "import pickle"
   ]
  },
  {
   "cell_type": "markdown",
   "metadata": {},
   "source": [
    "### Get full target"
   ]
  },
  {
   "cell_type": "code",
   "execution_count": null,
   "metadata": {},
   "outputs": [],
   "source": [
    "all_tweets = pd.read_csv('congress_tweets.csv'); len(all_tweets)"
   ]
  },
  {
   "cell_type": "code",
   "execution_count": null,
   "metadata": {},
   "outputs": [],
   "source": [
    "bots_df = pd.read_csv('bots_df.csv')\n",
    "bots_df = bots_df[bots_df.is_bot == 1]"
   ]
  },
  {
   "cell_type": "code",
   "execution_count": null,
   "metadata": {},
   "outputs": [],
   "source": [
    "all_tweets = all_tweets[~all_tweets.screen_name.isin(bots_df.screen_name.values)]"
   ]
  },
  {
   "cell_type": "code",
   "execution_count": null,
   "metadata": {},
   "outputs": [],
   "source": [
    "single_targets = all_tweets[(all_tweets.directed_at_screen_name.notna()) | (all_tweets.mentions == 'set()')]"
   ]
  },
  {
   "cell_type": "code",
   "execution_count": null,
   "metadata": {},
   "outputs": [],
   "source": [
    "multiple_targets = all_tweets[all_tweets.directed_at_screen_name.isna()]; len(multiple_targets)"
   ]
  },
  {
   "cell_type": "code",
   "execution_count": null,
   "metadata": {},
   "outputs": [],
   "source": [
    "meta_dict_congress = pickle.load(open(\"meta_dict_congress.pkl\", \"rb\"))\n"
   ]
  },
  {
   "cell_type": "code",
   "execution_count": null,
   "metadata": {},
   "outputs": [],
   "source": [
    "rows = []"
   ]
  },
  {
   "cell_type": "code",
   "execution_count": null,
   "metadata": {},
   "outputs": [],
   "source": [
    "%%time\n",
    "for idx,row in multiple_targets.iterrows():\n",
    "    if idx % 50000 == 0 and idx > 0:\n",
    "        print(idx)\n",
    "        time.sleep(30)\n",
    "    for name in eval(row.mentions_congress_list):\n",
    "        rows = row.copy()\n",
    "        rows.directed_at_screen_name = name\n",
    "        rows.directed_at_congress = meta_dict[name]['type']          \n",
    "        rows.directed_at_gender = meta_dict[name]['gender']\n",
    "        rows.directed_at_state = meta_dict[name]['state']\n",
    "        rows.directed_at_interbloque = meta_dict[name]['interbloque']\n",
    "        rows.append(row2)"
   ]
  },
  {
   "cell_type": "code",
   "execution_count": null,
   "metadata": {},
   "outputs": [],
   "source": [
    "single_targets = single_targets.append(rows).reset_index(drop=True)"
   ]
  },
  {
   "cell_type": "code",
   "execution_count": null,
   "metadata": {},
   "outputs": [],
   "source": [
    "print(len(all_tweets), len(single_targets))"
   ]
  },
  {
   "cell_type": "markdown",
   "metadata": {},
   "source": [
    "### Merge with unique tweet index"
   ]
  },
  {
   "cell_type": "code",
   "execution_count": null,
   "metadata": {},
   "outputs": [],
   "source": [
    "id_to_idx = pd.read_csv('../2.perspective/id_to_idx.csv')"
   ]
  },
  {
   "cell_type": "code",
   "execution_count": null,
   "metadata": {},
   "outputs": [],
   "source": [
    "single_targets2 = single_targets2.merge(id_to_idx, how='left', on='id')"
   ]
  },
  {
   "cell_type": "code",
   "execution_count": null,
   "metadata": {},
   "outputs": [],
   "source": [
    "single_targets2.to_csv('processed/congress_tweets_full_targets.csv', index=False)"
   ]
  },
  {
   "cell_type": "markdown",
   "metadata": {},
   "source": [
    "### Get target precision"
   ]
  },
  {
   "cell_type": "code",
   "execution_count": null,
   "metadata": {},
   "outputs": [],
   "source": [
    "all_tweets = pd.read_csv('processed/congress_tweets_full_targets.csv')"
   ]
  },
  {
   "cell_type": "code",
   "execution_count": null,
   "metadata": {},
   "outputs": [],
   "source": [
    "meta = pd.read_csv('metadata.csv')\n",
    "# Replies to politicians are address to them\n",
    "\n",
    "all_tweets.loc[all_tweets.in_reply_to_screen_name.isin(meta.screen_name),\"target_precision\"] = \"High\""
   ]
  },
  {
   "cell_type": "code",
   "execution_count": null,
   "metadata": {},
   "outputs": [],
   "source": [
    "# Number of mentions\n",
    "all_tweets.mentions = all_tweets.mentions.fillna('set()')\n",
    "all_tweets['n_mentions'] = all_tweets.mentions.apply(lambda x: len(eval(x)))"
   ]
  },
  {
   "cell_type": "code",
   "execution_count": null,
   "metadata": {},
   "outputs": [],
   "source": [
    "all_tweets.loc[all_tweets.n_mentions==1,\"target_precision\"] = \"High\""
   ]
  },
  {
   "cell_type": "code",
   "execution_count": null,
   "metadata": {},
   "outputs": [],
   "source": [
    "# Number of mentions politicians\n",
    "all_tweets.mentions_politicians = all_tweets.mentions_politicians.fillna('set()')\n",
    "all_tweets['n_mentions_poilticians'] = all_tweets.mentions_politicians.apply(lambda x: len(eval(x)))"
   ]
  },
  {
   "cell_type": "code",
   "execution_count": null,
   "metadata": {},
   "outputs": [],
   "source": [
    "all_tweets.loc[(all_tweets.target_precision != \"High\")&\\\n",
    "               (all_tweets.n_mentions_poilticians==1)&\\\n",
    "               (all_tweets.n_mentions > 1),\"target_precision\"] = \"Medium\""
   ]
  },
  {
   "cell_type": "code",
   "execution_count": null,
   "metadata": {},
   "outputs": [],
   "source": [
    "all_tweets.loc[all_tweets.target_precision.isna(),\"target_precision\"] = \"Low\""
   ]
  },
  {
   "cell_type": "code",
   "execution_count": null,
   "metadata": {},
   "outputs": [],
   "source": [
    "all_tweets.target_precision.value_counts()"
   ]
  },
  {
   "cell_type": "code",
   "execution_count": null,
   "metadata": {},
   "outputs": [],
   "source": [
    "len(all_tweets)"
   ]
  },
  {
   "cell_type": "code",
   "execution_count": null,
   "metadata": {},
   "outputs": [],
   "source": [
    "all_tweets.to_csv('processed/congress_tweets_full_targets.csv', index=False)"
   ]
  },
  {
   "cell_type": "code",
   "execution_count": null,
   "metadata": {},
   "outputs": [],
   "source": [
    "all_tweets.drop_duplicates('id')[['id','target_precision']].to_csv('processed/id_to_target.csv',index=False)"
   ]
  }
 ],
 "metadata": {
  "kernelspec": {
   "display_name": "Python 3",
   "language": "python",
   "name": "python3"
  },
  "language_info": {
   "codemirror_mode": {
    "name": "ipython",
    "version": 3
   },
   "file_extension": ".py",
   "mimetype": "text/x-python",
   "name": "python",
   "nbconvert_exporter": "python",
   "pygments_lexer": "ipython3",
   "version": "3.7.6"
  }
 },
 "nbformat": 4,
 "nbformat_minor": 4
}
